{
 "cells": [
  {
   "cell_type": "code",
   "execution_count": 1,
   "id": "bde2c731-1517-46fc-9a61-f58dffb8bf36",
   "metadata": {},
   "outputs": [],
   "source": [
    "import numpy as np\n",
    "\n"
   ]
  },
  {
   "cell_type": "markdown",
   "id": "bf0d3d28-3bbe-4fc9-9220-7d1e8e9b003a",
   "metadata": {},
   "source": [
    "🔰 EASY QUESTIONS\n",
    "Create a 3x3 identity matrix.\n",
    "\n",
    "Generate a 1D array of even numbers between 10 and 30.\n",
    "\n",
    "Find the max, min, and mean of the array:\n",
    "\n",
    "python\n",
    "Copy\n",
    "Edit\n",
    "arr = np.array([1, 8, 5, 6, 3])\n",
    "Get the shape and size of:\n",
    "\n",
    "python\n",
    "Copy\n",
    "Edit\n",
    "np.array([[1, 2], [3, 4], [5, 6]])\n"
   ]
  },
  {
   "cell_type": "code",
   "execution_count": 2,
   "id": "83e8869d-8cbb-47ea-8ab6-01eec54f82ab",
   "metadata": {},
   "outputs": [
    {
     "data": {
      "text/plain": [
       "array([[1., 0., 0.],\n",
       "       [0., 1., 0.],\n",
       "       [0., 0., 1.]])"
      ]
     },
     "execution_count": 2,
     "metadata": {},
     "output_type": "execute_result"
    }
   ],
   "source": [
    "np.eye(3)"
   ]
  },
  {
   "cell_type": "code",
   "execution_count": 9,
   "id": "4f16c3d5-2553-44e2-a7f1-25a7858e7aea",
   "metadata": {},
   "outputs": [
    {
     "data": {
      "text/plain": [
       "array([10, 12, 14, 16, 18, 20, 22, 24, 26, 28, 30])"
      ]
     },
     "execution_count": 9,
     "metadata": {},
     "output_type": "execute_result"
    }
   ],
   "source": [
    "np.arange(10,31,2)"
   ]
  },
  {
   "cell_type": "code",
   "execution_count": 14,
   "id": "805e490b-cf74-4720-9aa0-bb847ddbddd3",
   "metadata": {},
   "outputs": [
    {
     "data": {
      "text/plain": [
       "1"
      ]
     },
     "execution_count": 14,
     "metadata": {},
     "output_type": "execute_result"
    }
   ],
   "source": [
    "arr = np.array([1, 8, 5, 6, 3])\n",
    "np.max(arr)\n",
    "np.min(arr)"
   ]
  },
  {
   "cell_type": "code",
   "execution_count": 15,
   "id": "ae80f302-9362-45bd-b1b1-b770b1d5d48f",
   "metadata": {},
   "outputs": [
    {
     "data": {
      "text/plain": [
       "(3, 2)"
      ]
     },
     "execution_count": 15,
     "metadata": {},
     "output_type": "execute_result"
    }
   ],
   "source": [
    "df = np.array([[1, 2], [3, 4], [5, 6]])\n",
    "np.shape(df)\n"
   ]
  },
  {
   "cell_type": "markdown",
   "id": "ba32516b-fb56-4a08-bd0b-6042f067fc9c",
   "metadata": {},
   "source": [
    "⚙️ MEDIUM QUESTIONS\n",
    "Create a 5x5 matrix with values from 1 to 25.\n",
    "\n",
    "Extract the 2nd column from a 2D array.\n",
    "\n",
    "Replace all values > 50 with 0 in this array:\n",
    "\n",
    "python\n",
    "Copy\n",
    "Edit\n",
    "np.random.randint(10, 100, (5, 5))\n",
    "Create an array, reshape it from 1D to 3x4."
   ]
  },
  {
   "cell_type": "code",
   "execution_count": 23,
   "id": "56b91d8a-8886-4857-80d2-eb446c37991e",
   "metadata": {},
   "outputs": [
    {
     "data": {
      "text/plain": [
       "array([[ 1,  2,  3,  4,  5],\n",
       "       [ 6,  7,  8,  9, 10],\n",
       "       [11, 12, 13, 14, 15],\n",
       "       [16, 17, 18, 19, 20],\n",
       "       [21, 22, 23, 24, 25]])"
      ]
     },
     "execution_count": 23,
     "metadata": {},
     "output_type": "execute_result"
    }
   ],
   "source": [
    "mat = np.reshape(np.arange(1,26),(5,5))\n",
    "mat"
   ]
  },
  {
   "cell_type": "code",
   "execution_count": 22,
   "id": "bb004a20-a3c1-4a8a-ad1a-ce27464dc0c5",
   "metadata": {},
   "outputs": [
    {
     "data": {
      "text/plain": [
       "array([ 2,  7, 12, 17, 22])"
      ]
     },
     "execution_count": 22,
     "metadata": {},
     "output_type": "execute_result"
    }
   ],
   "source": [
    "mat[:,1]"
   ]
  },
  {
   "cell_type": "code",
   "execution_count": 27,
   "id": "bfbb6778-f2be-4061-bfab-8e9bfc5c91d3",
   "metadata": {},
   "outputs": [
    {
     "data": {
      "text/plain": [
       "array([[11, 97, 62, 93, 35],\n",
       "       [31, 74, 63, 66, 95],\n",
       "       [85, 37, 41, 35, 12],\n",
       "       [60, 14, 85, 86, 97],\n",
       "       [29, 51, 99, 78, 87]])"
      ]
     },
     "execution_count": 27,
     "metadata": {},
     "output_type": "execute_result"
    }
   ],
   "source": [
    " mat2 = np.random.randint(10, 100, (5, 5))\n",
    "mat2"
   ]
  },
  {
   "cell_type": "code",
   "execution_count": 33,
   "id": "25b522fa-ecde-4418-b54f-e0923569f0be",
   "metadata": {},
   "outputs": [
    {
     "data": {
      "text/plain": [
       "array([[11,  0,  0,  0, 35],\n",
       "       [31,  0,  0,  0,  0],\n",
       "       [ 0, 37, 41, 35, 12],\n",
       "       [ 0, 14,  0,  0,  0],\n",
       "       [29,  0,  0,  0,  0]])"
      ]
     },
     "execution_count": 33,
     "metadata": {},
     "output_type": "execute_result"
    }
   ],
   "source": [
    "mat2[mat2 > 50] = 0\n",
    "mat2"
   ]
  },
  {
   "cell_type": "code",
   "execution_count": 37,
   "id": "ce4fc822-fe50-4667-8e2d-5f4db519e575",
   "metadata": {},
   "outputs": [
    {
     "data": {
      "text/plain": [
       "array([[ 1,  2,  3,  4],\n",
       "       [ 5,  6,  7,  8],\n",
       "       [ 9, 10, 11, 12]])"
      ]
     },
     "execution_count": 37,
     "metadata": {},
     "output_type": "execute_result"
    }
   ],
   "source": [
    "mat = np.arange(1,13)\n",
    "np.reshape(mat,(3,4))"
   ]
  },
  {
   "cell_type": "markdown",
   "id": "71c5ec64-4fde-41c1-a6d0-1de92af1c845",
   "metadata": {},
   "source": [
    "🔥 HARD QUESTIONS (You focus here)\n",
    "1. Find the row with the max sum\n",
    "python\n",
    "Copy\n",
    "Edit\n",
    "arr = np.random.randint(1, 100, (4, 5))\n",
    "max_row_index = np.argmax(np.sum(arr, axis=1))\n",
    "2. Sort 2D array by the second column\n",
    "python\n",
    "Copy\n",
    "Edit\n",
    "arr = np.array([\n",
    "    [1, 4, 2],\n",
    "    [3, 1, 5],\n",
    "    [7, 0, 6]\n",
    "])\n",
    "arr_sorted = arr[arr[:, 1].argsort()]\n",
    "3. Replace diagonal with 0\n",
    "python\n",
    "Copy\n",
    "Edit\n",
    "arr = np.random.randint(10, 99, (5, 5))\n",
    "np.fill_diagonal(arr, 0)\n",
    "4. Find common elements in two arrays\n",
    "python\n",
    "Copy\n",
    "Edit\n",
    "a = np.array([1, 2, 3, 4])\n",
    "b = np.array([3, 4, 5, 6])\n",
    "common = np.intersect1d(a, b)\n",
    "5. Count frequency of each unique element\n",
    "python\n",
    "Copy\n",
    "Edit\n",
    "arr = np.array([1, 2, 2, 3, 4, 4, 4])\n",
    "unique, counts = np.unique(arr, return_counts=True)\n",
    "freq_dict = dict(zip(unique, counts))\n",
    "6. Find top 3 largest values in an array\n",
    "python\n",
    "Copy\n",
    "Edit\n",
    "arr = np.array([10, 30, 20, 40, 50])\n",
    "top3 = np.sort(arr)[-3:]    # [30 40 50]\n",
    "7. Find positions where elements are divisible by 3\n",
    "python\n",
    "Copy\n",
    "Edit\n",
    "arr = np.array([3, 4, 6, 7, 9])\n",
    "indices = np.where(arr % 3 == 0)\n",
    "8. Replace all NaN with column means\n",
    "python\n",
    "Copy\n",
    "Edit\n",
    "arr = np.array([[1, 2, np.nan], [4, np.nan, 6]])\n",
    "col_mean = np.nanmean(arr, axis=0)\n",
    "inds = np.where(np.isnan(arr))\n",
    "arr[inds] = np.take(col_mean, inds[1])"
   ]
  },
  {
   "cell_type": "code",
   "execution_count": 41,
   "id": "4dfb159e-9673-4969-a3d0-eb3fec99224b",
   "metadata": {},
   "outputs": [
    {
     "data": {
      "text/plain": [
       "array([[15, 59, 26, 35, 67],\n",
       "       [74, 16, 54, 33, 54],\n",
       "       [60, 35, 43, 55, 50],\n",
       "       [14, 79, 28, 48, 86]])"
      ]
     },
     "execution_count": 41,
     "metadata": {},
     "output_type": "execute_result"
    }
   ],
   "source": [
    "arr = np.random.randint(1, 100, (4, 5))\n",
    "arr\n"
   ]
  },
  {
   "cell_type": "code",
   "execution_count": 45,
   "id": "851dc98d-c4fc-4241-b2ed-21b52cd52acf",
   "metadata": {},
   "outputs": [
    {
     "data": {
      "text/plain": [
       "3"
      ]
     },
     "execution_count": 45,
     "metadata": {},
     "output_type": "execute_result"
    }
   ],
   "source": [
    "max_row_index = np.sum(arr, axis=1)\n",
    "np.argmax(max_row_index)\n",
    "# max_row_index#="
   ]
  },
  {
   "cell_type": "code",
   "execution_count": 46,
   "id": "b77bd7be-3135-45e6-bc0e-cbcabd11de04",
   "metadata": {},
   "outputs": [
    {
     "name": "stdout",
     "output_type": "stream",
     "text": [
      "Sorted by 2nd column:\n",
      " [[7 0 6]\n",
      " [3 1 5]\n",
      " [1 4 2]]\n"
     ]
    }
   ],
   "source": [
    "arr = np.array([\n",
    "    [1, 4, 2],\n",
    "    [3, 1, 5],\n",
    "    [7, 0, 6]\n",
    "])\n",
    "\n",
    "sorted_arr = arr[arr[:, 1].argsort()]\n",
    "print(\"Sorted by 2nd column:\\n\", sorted_arr)\n"
   ]
  },
  {
   "cell_type": "code",
   "execution_count": 47,
   "id": "a35a9445-d0d0-4135-a578-0c3c51b1d5f4",
   "metadata": {},
   "outputs": [
    {
     "name": "stdout",
     "output_type": "stream",
     "text": [
      "Before:\n",
      " [[36 92 55 14 72]\n",
      " [40 17 88 69 93]\n",
      " [18 73 30 41 54]\n",
      " [35 54 20 17 21]\n",
      " [82 41 63 96 77]]\n",
      "After replacing diagonal:\n",
      " [[ 0 92 55 14 72]\n",
      " [40  0 88 69 93]\n",
      " [18 73  0 41 54]\n",
      " [35 54 20  0 21]\n",
      " [82 41 63 96  0]]\n"
     ]
    }
   ],
   "source": [
    "arr = np.random.randint(10, 99, (5, 5))\n",
    "print(\"Before:\\n\", arr)\n",
    "\n",
    "np.fill_diagonal(arr, 0)\n",
    "print(\"After replacing diagonal:\\n\", arr)\n"
   ]
  },
  {
   "cell_type": "code",
   "execution_count": 48,
   "id": "81074995-7500-4a33-9e8a-86bc1e1fa1c7",
   "metadata": {},
   "outputs": [
    {
     "name": "stdout",
     "output_type": "stream",
     "text": [
      "Common elements: [3 4]\n"
     ]
    }
   ],
   "source": [
    "a = np.array([1, 2, 3, 4])\n",
    "b = np.array([3, 4, 5, 6])\n",
    "\n",
    "common = np.intersect1d(a, b)\n",
    "print(\"Common elements:\", common)\n"
   ]
  }
 ],
 "metadata": {
  "kernelspec": {
   "display_name": "Python [conda env:base] *",
   "language": "python",
   "name": "conda-base-py"
  },
  "language_info": {
   "codemirror_mode": {
    "name": "ipython",
    "version": 3
   },
   "file_extension": ".py",
   "mimetype": "text/x-python",
   "name": "python",
   "nbconvert_exporter": "python",
   "pygments_lexer": "ipython3",
   "version": "3.12.7"
  }
 },
 "nbformat": 4,
 "nbformat_minor": 5
}
